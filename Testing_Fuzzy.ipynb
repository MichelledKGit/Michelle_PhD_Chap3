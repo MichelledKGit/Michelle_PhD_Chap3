{
  "cells": [
    {
      "cell_type": "markdown",
      "metadata": {
        "id": "view-in-github",
        "colab_type": "text"
      },
      "source": [
        "<a href=\"https://colab.research.google.com/github/MichelledKGit/Michelle_PhD_Chap3/blob/main/Testing_Fuzzy.ipynb\" target=\"_parent\"><img src=\"https://colab.research.google.com/assets/colab-badge.svg\" alt=\"Open In Colab\"/></a>"
      ]
    },
    {
      "cell_type": "code",
      "source": [
        "!git clone https://github.com/MichelledKGit/Michelle_PhD_Chap3.git"
      ],
      "metadata": {
        "colab": {
          "base_uri": "https://localhost:8080/"
        },
        "id": "rY431k8KzHhm",
        "outputId": "a587de57-3dd5-4b1b-b663-1cb3b7ce76a2"
      },
      "execution_count": 3,
      "outputs": [
        {
          "output_type": "stream",
          "name": "stdout",
          "text": [
            "Cloning into 'Michelle_PhD_Chap3'...\n",
            "remote: Enumerating objects: 30, done.\u001b[K\n",
            "remote: Counting objects: 100% (30/30), done.\u001b[K\n",
            "remote: Compressing objects: 100% (28/28), done.\u001b[K\n",
            "remote: Total 30 (delta 12), reused 0 (delta 0), pack-reused 0 (from 0)\u001b[K\n",
            "Receiving objects: 100% (30/30), 14.71 KiB | 14.71 MiB/s, done.\n",
            "Resolving deltas: 100% (12/12), done.\n"
          ]
        }
      ]
    },
    {
      "cell_type": "code",
      "source": [],
      "metadata": {
        "id": "YkHUqv_C7shu"
      },
      "execution_count": null,
      "outputs": []
    },
    {
      "cell_type": "markdown",
      "metadata": {
        "id": "xCOpTGBVy12I"
      },
      "source": [
        "# Python code for Chapter 3: SEASONAL CATCHMENT AREAS USING AN ATTRIBUTE BASED FUZZY LATTICE DATA STRUCTURE for toy example. Please note that the data used in POI catchment areas is not publically available and cannot be uploaded in this repository. Data ethics clearance number NAS003/2023.\n"
      ]
    },
    {
      "cell_type": "markdown",
      "metadata": {
        "id": "AladNRjjy12J"
      },
      "source": [
        "# Importing all the relevant packages"
      ]
    },
    {
      "cell_type": "code",
      "execution_count": 1,
      "metadata": {
        "id": "fZLGi9zxy12J"
      },
      "outputs": [],
      "source": [
        "import pandas as pd\n",
        "import numpy as np\n",
        "from numpy.linalg import inv\n",
        "import matplotlib.pyplot as plt\n",
        "import networkx as nx\n",
        "import os\n",
        "from functools import reduce\n",
        "from sklearn.preprocessing import StandardScaler, OneHotEncoder\n",
        "# Enable inline plotting\n",
        "%matplotlib inline"
      ]
    },
    {
      "cell_type": "markdown",
      "metadata": {
        "id": "br0Ht2hJy12K"
      },
      "source": [
        "# NB: The names in the structured nodes (1-9) are in the ordered format for V that the labelled states are first  i.e. grid_name={1,2,3,4,5,6,7,8,9}={v2,v7,v1,v3,v4,v5,v6,v8,v9}\n"
      ]
    },
    {
      "cell_type": "markdown",
      "metadata": {
        "id": "-IICpdxDy12K"
      },
      "source": [
        "# Import Datasets"
      ]
    },
    {
      "cell_type": "code",
      "execution_count": 4,
      "metadata": {
        "id": "6cbJS9kty12K",
        "outputId": "1559fb59-315f-4f8c-fdf4-4a93cf4e3ba9",
        "colab": {
          "base_uri": "https://localhost:8080/"
        }
      },
      "outputs": [
        {
          "output_type": "stream",
          "name": "stdout",
          "text": [
            "   Grid_Name  Grid_Name2  Absorbant_State  Absorbant_State2 Label_val\n",
            "0          1           1                1                 1        P1\n",
            "1          3           1                0                 1        U3\n",
            "2          4           1                0                 1        U4\n",
            "3          6           1                0                 1        U6\n",
            "4          2           2                1                 1        P2\n"
          ]
        }
      ],
      "source": [
        "#Import Grid_Neighbours_Labels.\n",
        "# Grid_Name and Grid_Name2 indicates the the structural nodes adjacent to each other.\n",
        "# Absorbant_State indicates if grid_name is absorbant(1) or not and same for Absorbant_State2 for grid_name2.\n",
        "# Label_Val indicates the label associated with Grid_Name where for the toy example, P1 and P1 indicates the two POIs and U3-U9 indicates unlabelled.\n",
        "base_path = 'Michelle_PhD_Chap3'\n",
        "file_path = os.path.join(base_path, 'Grid_Neighbours_Labels.txt')\n",
        "\n",
        "DF = pd.read_csv(file_path, sep='|')\n",
        "print(DF.head())"
      ]
    },
    {
      "cell_type": "code",
      "execution_count": 39,
      "metadata": {
        "id": "CKVfE3Gxy12K",
        "outputId": "0e6f5c35-8008-491a-85d0-05cd868448be",
        "colab": {
          "base_uri": "https://localhost:8080/"
        }
      },
      "outputs": [
        {
          "output_type": "stream",
          "name": "stdout",
          "text": [
            "   grid_name attribute1\n",
            "0          1         A1\n",
            "1          2         A2\n",
            "2          3         A2\n",
            "3          4         A1\n",
            "4          5         A1\n"
          ]
        }
      ],
      "source": [
        "# Gives the attributes per grid. Each additional attribute will be added in another column the code is dynically set-up that way to pick up all distinct levels in all attributes provided\n",
        "#For toy example there is one attribute with two levels the level a2 is associated with structural nodes v1 and v7 and level a1 with v2,v3,v4,v5,v6,v8 and v9.\n",
        "file_path1 = os.path.join(base_path, 'Grid_Attributes.txt')\n",
        "\n",
        "Attributes = pd.read_csv(file_path1, sep='|')\n",
        "Attributes = Attributes.sort_values(by='grid_name')\n",
        "print(Attributes.head())"
      ]
    },
    {
      "cell_type": "code",
      "execution_count": 6,
      "metadata": {
        "id": "40x25Yi6y12L",
        "outputId": "94e017e2-5f04-447a-d953-afe6e3a5c299",
        "colab": {
          "base_uri": "https://localhost:8080/"
        }
      },
      "outputs": [
        {
          "output_type": "stream",
          "name": "stdout",
          "text": [
            "   grid_Name  Absorbant_State  Total\n",
            "0          1                1      3\n",
            "1          2                1      2\n",
            "2          3                0      2\n",
            "3          4                0      2\n",
            "4          5                0      3\n"
          ]
        }
      ],
      "source": [
        "# Degrees File. Distinct on grid_name and give the total number of neighbouring structural nodes(total) and if it is an absorbent state\n",
        "file_path2 = os.path.join(base_path, 'Grid_Degrees.txt')\n",
        "\n",
        "# Read the file\n",
        "DF2 = pd.read_csv(file_path2, sep='|')\n",
        "print(DF2.head())\n",
        "\n",
        "absorbant_States=sum(DF2.Absorbant_State)\n",
        "nodes=len(DF2.index)"
      ]
    },
    {
      "cell_type": "markdown",
      "metadata": {
        "id": "-f8_AOIJy12L"
      },
      "source": [
        "# Create Adjacency Matrix"
      ]
    },
    {
      "cell_type": "code",
      "execution_count": 7,
      "metadata": {
        "id": "Qq8_7GUOy12L",
        "outputId": "776b319e-84f8-4a50-f058-c7918b5cd497",
        "colab": {
          "base_uri": "https://localhost:8080/"
        }
      },
      "outputs": [
        {
          "output_type": "stream",
          "name": "stdout",
          "text": [
            "[[1. 0. 0. 0. 0. 0. 0. 0. 0.]\n",
            " [0. 1. 0. 0. 0. 0. 0. 0. 0.]\n",
            " [1. 0. 0. 0. 1. 0. 0. 0. 0.]\n",
            " [1. 0. 0. 0. 0. 0. 1. 0. 0.]\n",
            " [0. 1. 1. 0. 0. 1. 0. 0. 0.]\n",
            " [1. 0. 0. 0. 1. 0. 1. 1. 0.]\n",
            " [0. 0. 0. 1. 0. 1. 0. 0. 1.]\n",
            " [0. 1. 0. 0. 0. 1. 0. 0. 1.]\n",
            " [0. 0. 0. 0. 0. 0. 1. 1. 0.]]\n"
          ]
        }
      ],
      "source": [
        "#Using the information from DF create adjacency matrix\n",
        "df = pd.crosstab(DF.Grid_Name, DF.Grid_Name2)\n",
        "idx = df.columns.union(df.index)\n",
        "df = df.reindex(index = idx, columns=idx, fill_value=0)\n",
        "\n",
        "#Create correct format in Links table (new adjacency matrix)\n",
        "links = np.matrix(df).astype(np.float64)\n",
        "identity_abs = np.identity(absorbant_States)\n",
        "#Absorbent states should only indicate 1 to own state, nullify absorbent states and replace top left hand corner of matrix with identity matrix\n",
        "links[0:absorbant_States]=0\n",
        "#Replace the identity matrix in the top left hand corner of links matrix that all absorbent states can only move into themselves\n",
        "links[0:absorbant_States,0:absorbant_States]=identity_abs\n",
        "\n",
        "#Links is now the adjacency matrix but all absorbent states only has a probability of 1 to stay in the same state with the rest 0\n",
        "print(links)"
      ]
    },
    {
      "cell_type": "markdown",
      "metadata": {
        "id": "AR4_3-_ty12L"
      },
      "source": [
        "# Import the attributes and create attribute matrix X with N the number of structural nodes, A the total number of attributes and T total number of unique levels over all attributes"
      ]
    },
    {
      "cell_type": "code",
      "execution_count": 8,
      "metadata": {
        "id": "pOgY_B-3y12L",
        "outputId": "db5b17c3-2971-4bf5-f31c-41165d01995c",
        "colab": {
          "base_uri": "https://localhost:8080/"
        }
      },
      "outputs": [
        {
          "output_type": "stream",
          "name": "stdout",
          "text": [
            "9\n",
            "1\n",
            "2\n",
            "[[1. 0.]\n",
            " [0. 1.]\n",
            " [0. 1.]\n",
            " [1. 0.]\n",
            " [1. 0.]\n",
            " [1. 0.]\n",
            " [1. 0.]\n",
            " [1. 0.]\n",
            " [1. 0.]]\n"
          ]
        }
      ],
      "source": [
        "# Step 1: Order by grid_name\n",
        "Attributes_sorted = Attributes.sort_values(by='grid_name')\n",
        "\n",
        "# Step 2: Drop grid_name\n",
        "Attributes_dropped = Attributes_sorted.drop(columns=['grid_name'])\n",
        "\n",
        "# Step 3: Stack remaining columns into attributes_raw\n",
        "attributes_raw = np.column_stack([Attributes_dropped[col].values for col in Attributes_dropped.columns])\n",
        "\n",
        "# Convert the attributes_raw matrix to a DataFrame\n",
        "df_attributes = pd.DataFrame(attributes_raw)\n",
        "df_attributes.columns = df_attributes.columns.astype(str)\n",
        "\n",
        "# Count the number of attributes (M)\n",
        "A = df_attributes.shape[1]\n",
        "N = links.shape[1]\n",
        "\n",
        "# Extract all unique values across all attributes\n",
        "distinct_values = np.unique(attributes_raw)\n",
        "\n",
        "# Count the number of distinct values in all attributes (ki)\n",
        "T = len(distinct_values)\n",
        "\n",
        "# Initialize OneHotEncoder\n",
        "encoder = OneHotEncoder()\n",
        "\n",
        "# Fit and transform the categorical variables\n",
        "attributes_encoded = encoder.fit_transform(df_attributes).toarray()\n",
        "\n",
        "# Extract feature names from the encoder\n",
        "feature_names = encoder.get_feature_names_out(df_attributes.columns)\n",
        "\n",
        "# Create a new DataFrame with one-hot encoded columns\n",
        "df_encoded = pd.DataFrame(attributes_encoded, columns=feature_names)\n",
        "\n",
        "# Attribute matrix X\n",
        "X = df_encoded.values\n",
        "\n",
        "X = X.astype(np.float64)\n",
        "\n",
        "print(N)\n",
        "print(A)\n",
        "print(T)\n",
        "\n",
        "print(X)"
      ]
    },
    {
      "cell_type": "code",
      "execution_count": 9,
      "metadata": {
        "id": "y2Onv3buy12L",
        "outputId": "0924c37f-434a-40bd-94c6-63a4e79a823e",
        "colab": {
          "base_uri": "https://localhost:8080/"
        }
      },
      "outputs": [
        {
          "output_type": "stream",
          "name": "stdout",
          "text": [
            "[[0.5      0.       0.       0.       0.       0.       0.       0.\n",
            "  0.       0.5      0.      ]\n",
            " [0.       0.5      0.       0.       0.       0.       0.       0.\n",
            "  0.       0.       0.5     ]\n",
            " [0.333333 0.       0.       0.       0.333333 0.       0.       0.\n",
            "  0.       0.       0.333333]\n",
            " [0.333333 0.       0.       0.       0.       0.       0.333333 0.\n",
            "  0.       0.333333 0.      ]\n",
            " [0.       0.25     0.25     0.       0.       0.25     0.       0.\n",
            "  0.       0.25     0.      ]\n",
            " [0.2      0.       0.       0.       0.2      0.       0.2      0.2\n",
            "  0.       0.2      0.      ]\n",
            " [0.       0.       0.       0.25     0.       0.25     0.       0.\n",
            "  0.25     0.25     0.      ]\n",
            " [0.       0.25     0.       0.       0.       0.25     0.       0.\n",
            "  0.25     0.25     0.      ]\n",
            " [0.       0.       0.       0.       0.       0.       0.333333 0.333333\n",
            "  0.       0.333333 0.      ]\n",
            " [0.142857 0.       0.       0.142857 0.142857 0.142857 0.142857 0.142857\n",
            "  0.142857 0.       0.      ]\n",
            " [0.       0.5      0.5      0.       0.       0.       0.       0.\n",
            "  0.       0.       0.      ]]\n"
          ]
        }
      ],
      "source": [
        "#Structural weights, if all is 1 it it equal to the adjacency matrix\n",
        "w0=links\n",
        "# Create w with the weights of the attributes\n",
        "w = np.full(A, 1)\n",
        "\n",
        "#Shell for transition matrix\n",
        "transition_matrix = np.zeros((N + T, N + T))\n",
        "\n",
        "#Sum over the rows of structural weights w0\n",
        "row_sums = w0.sum(axis=1)\n",
        "row_sums=row_sums.reshape((N, 1))\n",
        "\n",
        "#sum over the rows of the attribute weights\n",
        "attributes_sums = X.T.sum(axis=1)\n",
        "attributes_sums=attributes_sums.reshape((T, 1))\n",
        "\n",
        "# Create shell for submatrices with zeros\n",
        "Matrix_Ps = np.zeros((N, N))\n",
        "Matrix_Psa_Structure = X\n",
        "Matrix_Pas=np.zeros((T,N))\n",
        "Matrix_Pas_Structure = X.T\n",
        "Matrix_0 = np.zeros((T, T))\n",
        "\n",
        "\n",
        "# Create a dictionary to map attribute values to their corresponding weights\n",
        "weights_dict = {}\n",
        "for i in range(A):\n",
        "    col_values = np.unique(df_attributes.iloc[:, i])\n",
        "    for val in col_values:\n",
        "        weights_dict[val] = w[i]\n",
        "\n",
        "# Create the row vector w with the corresponding weights\n",
        "wj = np.array([weights_dict[val] for val in distinct_values])\n",
        "sum_weights=np.sum(w)\n",
        "\n",
        "#From equations the values for submatrices\n",
        "Matrix_Ps=w0/(row_sums+sum_weights)\n",
        "\n",
        "Matrix_A=wj/(row_sums+sum_weights)\n",
        "Matrix_A = np.asarray(Matrix_A)\n",
        "Matrix_A *= Matrix_Psa_Structure\n",
        "\n",
        "Matrix_Psa_Structure = np.asarray(Matrix_Psa_Structure)\n",
        "\n",
        "Matrix_Pas=(1/attributes_sums) * Matrix_Pas_Structure\n",
        "\n",
        "transition_matrix=np.vstack((np.hstack((Matrix_Ps,Matrix_A)),np.hstack((Matrix_Pas,Matrix_0))))\n",
        "transition_matrix = np.round(transition_matrix, 6)\n",
        "\n",
        "#The Transition matrix shown in the article has the order v1,v2,v3,...,v9,va1,va2 to illustrate the probabilities in each row without confusing the reader and is also Pa before introducing absorbent states.\n",
        "#The structure in the code is different with the absorbant states begin first i.e row 1 and column 1 is node v2 and row 2 and column 2 is node V7 as this matrix was set up for the label propagation\n",
        "print(transition_matrix)"
      ]
    },
    {
      "cell_type": "markdown",
      "metadata": {
        "id": "edFqMhsmy12M"
      },
      "source": [
        "# Check if matrix is stochastic"
      ]
    },
    {
      "cell_type": "code",
      "execution_count": 10,
      "metadata": {
        "id": "ogfd-JAjy12M",
        "outputId": "348e95d5-289e-40fa-9a28-511316ec8f57",
        "colab": {
          "base_uri": "https://localhost:8080/"
        }
      },
      "outputs": [
        {
          "output_type": "stream",
          "name": "stdout",
          "text": [
            "Is row stochastic? True\n"
          ]
        }
      ],
      "source": [
        "def is_row_stochastic(matrix):\n",
        "    # Check non-negativity\n",
        "    if np.any(matrix < 0):\n",
        "        return False\n",
        "    # Check if each row sum is within the range [0.99, 1.01]\n",
        "    row_sums = matrix.sum(axis=1)\n",
        "    return np.all((row_sums >= 0.99) & (row_sums <= 1.01))\n",
        "\n",
        "# Example usage:\n",
        "print(\"Is row stochastic?\", is_row_stochastic(transition_matrix))"
      ]
    },
    {
      "cell_type": "code",
      "execution_count": 11,
      "metadata": {
        "id": "ncHadiyoy12M",
        "outputId": "d2388111-0119-45b7-9382-2481508deb29",
        "colab": {
          "base_uri": "https://localhost:8080/"
        }
      },
      "outputs": [
        {
          "output_type": "stream",
          "name": "stdout",
          "text": [
            "[[0.5 0. ]\n",
            " [0.  0.5]]\n",
            "[[0.333333 0.      ]\n",
            " [0.333333 0.      ]\n",
            " [0.       0.25    ]\n",
            " [0.2      0.      ]\n",
            " [0.       0.      ]\n",
            " [0.       0.25    ]\n",
            " [0.       0.      ]\n",
            " [0.142857 0.      ]\n",
            " [0.       0.5     ]]\n",
            "[[0.       0.       0.333333 0.       0.       0.       0.       0.\n",
            "  0.333333]\n",
            " [0.       0.       0.       0.       0.333333 0.       0.       0.333333\n",
            "  0.      ]\n",
            " [0.25     0.       0.       0.25     0.       0.       0.       0.25\n",
            "  0.      ]\n",
            " [0.       0.       0.2      0.       0.2      0.2      0.       0.2\n",
            "  0.      ]\n",
            " [0.       0.25     0.       0.25     0.       0.       0.25     0.25\n",
            "  0.      ]\n",
            " [0.       0.       0.       0.25     0.       0.       0.25     0.25\n",
            "  0.      ]\n",
            " [0.       0.       0.       0.       0.333333 0.333333 0.       0.333333\n",
            "  0.      ]\n",
            " [0.       0.142857 0.142857 0.142857 0.142857 0.142857 0.142857 0.\n",
            "  0.      ]\n",
            " [0.5      0.       0.       0.       0.       0.       0.       0.\n",
            "  0.      ]]\n"
          ]
        }
      ],
      "source": [
        "# Partition the transition matrix into blocks as indicated on article\n",
        "P_ll = transition_matrix[:absorbant_States, :absorbant_States]\n",
        "P_ul = transition_matrix[absorbant_States:, :absorbant_States]\n",
        "P_uu = transition_matrix[absorbant_States:, absorbant_States:]\n",
        "\n",
        "print(P_ll)\n",
        "print(P_ul)\n",
        "print(P_uu)"
      ]
    },
    {
      "cell_type": "code",
      "execution_count": 12,
      "metadata": {
        "id": "Pf1DHowcy12M",
        "outputId": "b326bb19-30f6-47c6-b3a4-b0fd4d2dae20",
        "colab": {
          "base_uri": "https://localhost:8080/"
        }
      },
      "outputs": [
        {
          "output_type": "stream",
          "name": "stdout",
          "text": [
            "Final probability matrix:\n",
            "[[1.         0.        ]\n",
            " [0.         1.        ]\n",
            " [0.59390069 0.40609736]\n",
            " [0.78833178 0.21166501]\n",
            " [0.4847535  0.51524461]\n",
            " [0.66813817 0.33185965]\n",
            " [0.68802257 0.31197424]\n",
            " [0.49093962 0.50905798]\n",
            " [0.61864516 0.38135084]\n",
            " [0.67697515 0.32302144]\n",
            " [0.29695034 0.70304868]]\n"
          ]
        }
      ],
      "source": [
        "# Calculate the stationary distribution for the unlabeled nodes\n",
        "P_inf = inv(np.eye(P_uu.shape[0]) - P_uu).dot(P_ul)\n",
        "\n",
        "# Define the labels for the labeled nodes\n",
        "Y_l = np.identity(absorbant_States)  # Labels for node 1 and node 2\n",
        "\n",
        "# Calculate the labels for the unlabeled nodes\n",
        "Y_u = P_inf.dot(Y_l)\n",
        "\n",
        "# Combine the results for all nodes\n",
        "Y_all = np.vstack([Y_l, Y_u])\n",
        "\n",
        "# Print the final probability matrix\n",
        "print(\"Final probability matrix:\")\n",
        "print(Y_all)"
      ]
    },
    {
      "cell_type": "code",
      "execution_count": 13,
      "metadata": {
        "id": "ybvsL-B3y12M",
        "outputId": "f137a2fc-ace4-48e3-a27a-36faac0f62df",
        "colab": {
          "base_uri": "https://localhost:8080/"
        }
      },
      "outputs": [
        {
          "output_type": "stream",
          "name": "stdout",
          "text": [
            "Is row stochastic? True\n"
          ]
        }
      ],
      "source": [
        "# Example usage:\n",
        "print(\"Is row stochastic?\", is_row_stochastic(Y_all))"
      ]
    },
    {
      "cell_type": "markdown",
      "metadata": {
        "id": "xTx7RzN0y12M"
      },
      "source": [
        "# Drivetimes: Please note for the toy example the same nodes with be indicated for drive-times 5, 10 and 15minutes but for real-world applications like the pharmacy sales more nodes will be included as the drive times extend"
      ]
    },
    {
      "cell_type": "code",
      "execution_count": 14,
      "metadata": {
        "id": "BupmMnQ4y12M"
      },
      "outputs": [],
      "source": [
        "# Only take the first N rows as only the strctural nodes can be used for drivetimes\n",
        "L=Y_all[:N]"
      ]
    },
    {
      "cell_type": "code",
      "execution_count": 15,
      "metadata": {
        "id": "Ti7VwHv6y12N",
        "outputId": "6d0e3e95-2eed-4cb8-9a84-464ecd500548",
        "colab": {
          "base_uri": "https://localhost:8080/"
        }
      },
      "outputs": [
        {
          "output_type": "stream",
          "name": "stdout",
          "text": [
            "   grid_name  store_grid\n",
            "0          1           1\n",
            "1          4           1\n",
            "2          6           1\n",
            "3          7           1\n",
            "4          2           2\n",
            "5          5           2\n",
            "6          6           2\n",
            "7          8           2\n"
          ]
        }
      ],
      "source": [
        "# The Grid_Name column indicates the grid that is allocated in the drive time circle of Store_Grid. I.e. grid names 1 and 2 are the only grids with a POI and which have a drivetime circle associated with it.\n",
        "file_path3 = os.path.join(base_path, 'Grids_to_Drivetimes_5min.txt')\n",
        "\n",
        "# Read the file\n",
        "DT5 = pd.read_csv(file_path3, sep='|')\n",
        "print(DT5)"
      ]
    },
    {
      "cell_type": "code",
      "execution_count": 16,
      "metadata": {
        "id": "PQpdab7my12N",
        "outputId": "ae5e2bdd-bd42-46bd-f737-198c238881b6",
        "colab": {
          "base_uri": "https://localhost:8080/"
        }
      },
      "outputs": [
        {
          "output_type": "stream",
          "name": "stdout",
          "text": [
            "   grid_name  store_grid\n",
            "0          1           1\n",
            "1          4           1\n",
            "2          6           1\n",
            "3          7           1\n",
            "4          2           2\n",
            "5          5           2\n",
            "6          6           2\n",
            "7          8           2\n"
          ]
        }
      ],
      "source": [
        "# The Grid_Name column indicates the grid that is allocated in the drive time circle of Store_Grid. I.e. grid names 1 and 2 are the only grids with a POI and which have a drivetime circle associated with it.\n",
        "file_path4 = os.path.join(base_path, 'Grids_to_Drivetimes_10min.txt')\n",
        "\n",
        "# Read the file\n",
        "DT10 = pd.read_csv(file_path4, sep='|')\n",
        "print(DT10)"
      ]
    },
    {
      "cell_type": "code",
      "execution_count": 17,
      "metadata": {
        "id": "S4pp_dYLy12N",
        "outputId": "d547af2b-9ed0-4903-bc93-a015ac5cc7ba",
        "colab": {
          "base_uri": "https://localhost:8080/"
        }
      },
      "outputs": [
        {
          "output_type": "stream",
          "name": "stdout",
          "text": [
            "   grid_name  store_grid\n",
            "0          1           1\n",
            "1          4           1\n",
            "2          6           1\n",
            "3          7           1\n",
            "4          2           2\n",
            "5          5           2\n",
            "6          6           2\n",
            "7          8           2\n"
          ]
        }
      ],
      "source": [
        "# The Grid_Name column indicates the grid that is allocated in the drive time circle of Store_Grid. I.e. grid names 1 and 2 are the only grids with a POI and which have a drivetime circle associated with it.\n",
        "file_path5 = os.path.join(base_path, 'Grids_to_Drivetimes_15min.txt')\n",
        "\n",
        "# Read the file\n",
        "DT15 = pd.read_csv(file_path5, sep='|')\n",
        "print(DT15)"
      ]
    },
    {
      "cell_type": "code",
      "execution_count": 44,
      "metadata": {
        "id": "WaAIAKwEy12N",
        "outputId": "914f237d-dcec-4e24-9840-3dad555edb2f",
        "colab": {
          "base_uri": "https://localhost:8080/"
        }
      },
      "outputs": [
        {
          "output_type": "stream",
          "name": "stdout",
          "text": [
            "   1  2  grid_name\n",
            "1  1  0          1\n",
            "2  0  1          2\n",
            "3  0  0          3\n",
            "4  1  0          4\n",
            "5  0  1          5\n",
            "6  1  1          6\n",
            "7  1  0          7\n",
            "8  0  1          8\n",
            "9  0  0          9\n"
          ]
        },
        {
          "output_type": "stream",
          "name": "stderr",
          "text": [
            "<ipython-input-44-ca5c8fc231d1>:20: RuntimeWarning: invalid value encountered in divide\n",
            "  res5 = myArray5/myArray5.sum(axis=1)[:,None]\n"
          ]
        }
      ],
      "source": [
        "#5 minute drive time mappings\n",
        "#Create and indicator matrix with the columns the POIs and the rows indicating which nodes are in the drive-times of those POIs\n",
        "n_cols, n_rows = absorbant_States+1, nodes+1\n",
        "Dist5 = np.zeros((n_rows, n_cols), dtype=np.int32)\n",
        "\n",
        "Dist5[0,:] = np.arange(n_cols)\n",
        "Dist5[:,0] = np.arange(n_rows)\n",
        "\n",
        "d_selection5 = pd.DataFrame(DT5, columns = ['grid_name','store_grid'])\n",
        "\n",
        "for i in range(len(d_selection5)):\n",
        "    Dist5[d_selection5.loc[i, \"grid_name\"],d_selection5.loc[i, \"store_grid\"]]=1\n",
        "\n",
        "Dist5=pd.DataFrame(Dist5)\n",
        "Dist5 = Dist5.iloc[1: , 1:]\n",
        "Dist5=pd.DataFrame(Dist5)\n",
        "\n",
        "myArray5 = np.where(Dist5==0, Dist5, L)\n",
        "myArray5[0:absorbant_States,0:absorbant_States]=identity_abs\n",
        "res5 = myArray5/myArray5.sum(axis=1)[:,None]\n",
        "res5=pd.DataFrame(res5)\n",
        "res5=res5.fillna(0)\n",
        "\n",
        "# Add the grid_name column from DT5\n",
        "Dist5['grid_name'] = Attributes['grid_name'].values\n",
        "print(Dist5)"
      ]
    },
    {
      "cell_type": "code",
      "execution_count": 45,
      "metadata": {
        "id": "SE30u0why12N",
        "outputId": "4c532c77-d2c7-4a66-bbf1-bc8ad0781a99",
        "colab": {
          "base_uri": "https://localhost:8080/"
        }
      },
      "outputs": [
        {
          "output_type": "stream",
          "name": "stdout",
          "text": [
            "   1  2  grid_name\n",
            "1  1  0          1\n",
            "2  0  1          2\n",
            "3  0  0          3\n",
            "4  1  0          4\n",
            "5  0  1          5\n",
            "6  1  1          6\n",
            "7  1  0          7\n",
            "8  0  1          8\n",
            "9  0  0          9\n"
          ]
        },
        {
          "output_type": "stream",
          "name": "stderr",
          "text": [
            "<ipython-input-45-59d426be79e4>:20: RuntimeWarning: invalid value encountered in divide\n",
            "  res10 = myArray10/myArray10.sum(axis=1)[:,None]\n"
          ]
        }
      ],
      "source": [
        "#10 minute drive time mappings\n",
        "#Create and indicator matrix with the columns the POIs and the rows indicating which nodes are in the drive-times of those POIs\n",
        "n_cols, n_rows = absorbant_States+1, nodes+1\n",
        "Dist10 = np.zeros((n_rows, n_cols), dtype=np.int32)\n",
        "\n",
        "Dist10[0,:] = np.arange(n_cols)\n",
        "Dist10[:,0] = np.arange(n_rows)\n",
        "\n",
        "d_selection10 = pd.DataFrame(DT10, columns = ['grid_name','store_grid'])\n",
        "\n",
        "for i in range(len(d_selection10)):\n",
        "    Dist10[d_selection10.loc[i, \"grid_name\"],d_selection10.loc[i, \"store_grid\"]]=1\n",
        "\n",
        "Dist10=pd.DataFrame(Dist10)\n",
        "Dist10 = Dist10.iloc[1: , 1:]\n",
        "Dist10=pd.DataFrame(Dist10)\n",
        "\n",
        "myArray10 = np.where(Dist10==0, Dist10, L)\n",
        "myArray10[0:absorbant_States,0:absorbant_States]=identity_abs\n",
        "res10 = myArray10/myArray10.sum(axis=1)[:,None]\n",
        "res10=pd.DataFrame(res10)\n",
        "res10=res10.fillna(0)\n",
        "\n",
        "# Add the grid_name column from DT5\n",
        "Dist10['grid_name'] = Attributes['grid_name'].values\n",
        "print(Dist10)"
      ]
    },
    {
      "cell_type": "code",
      "execution_count": 46,
      "metadata": {
        "id": "8VcyOIExy12N",
        "outputId": "15cbab8a-ff47-4102-d9b8-fa0962ecf7d0",
        "colab": {
          "base_uri": "https://localhost:8080/"
        }
      },
      "outputs": [
        {
          "output_type": "stream",
          "name": "stdout",
          "text": [
            "   1  2  grid_name\n",
            "1  1  0          1\n",
            "2  0  1          2\n",
            "3  0  0          3\n",
            "4  1  0          4\n",
            "5  0  1          5\n",
            "6  1  1          6\n",
            "7  1  0          7\n",
            "8  0  1          8\n",
            "9  0  0          9\n"
          ]
        },
        {
          "output_type": "stream",
          "name": "stderr",
          "text": [
            "<ipython-input-46-34d07bcc4c6d>:20: RuntimeWarning: invalid value encountered in divide\n",
            "  res15 = myArray10/myArray15.sum(axis=1)[:,None]\n"
          ]
        }
      ],
      "source": [
        "#15 minute drive time mappings\n",
        "#Create and indicator matrix with the columns the POIs and the rows indicating which nodes are in the drive-times of those POIs\n",
        "n_cols, n_rows = absorbant_States+1, nodes+1\n",
        "Dist15 = np.zeros((n_rows, n_cols), dtype=np.int32)\n",
        "\n",
        "Dist15[0,:] = np.arange(n_cols)\n",
        "Dist15[:,0] = np.arange(n_rows)\n",
        "\n",
        "d_selection15 = pd.DataFrame(DT15, columns = ['grid_name','store_grid'])\n",
        "\n",
        "for i in range(len(d_selection15)):\n",
        "    Dist15[d_selection15.loc[i, \"grid_name\"],d_selection15.loc[i, \"store_grid\"]]=1\n",
        "\n",
        "Dist15=pd.DataFrame(Dist15)\n",
        "Dist15 = Dist15.iloc[1: , 1:]\n",
        "Dist15=pd.DataFrame(Dist15)\n",
        "\n",
        "myArray15 = np.where(Dist15==0, Dist15, L)\n",
        "myArray15[0:absorbant_States,0:absorbant_States]=identity_abs\n",
        "res15 = myArray10/myArray15.sum(axis=1)[:,None]\n",
        "res15=pd.DataFrame(res15)\n",
        "res15=res15.fillna(0)\n",
        "\n",
        "# Add the grid_name column from DT5\n",
        "Dist15['grid_name'] = Attributes['grid_name'].values\n",
        "print(Dist15)"
      ]
    },
    {
      "cell_type": "markdown",
      "metadata": {
        "id": "kGLFTfbOy12N"
      },
      "source": [
        "# Supply and demand to calculate supply-demand ratio and accessibility"
      ]
    },
    {
      "cell_type": "code",
      "execution_count": 47,
      "metadata": {
        "id": "NM7-dbCLy12N",
        "outputId": "5ee147ae-cd2e-49b5-f6b5-3ead1aa91097",
        "colab": {
          "base_uri": "https://localhost:8080/"
        }
      },
      "outputs": [
        {
          "output_type": "stream",
          "name": "stdout",
          "text": [
            "   grid_name  Total\n",
            "0          1      1\n",
            "1          2      1\n",
            "2          3      1\n",
            "3          4      1\n",
            "4          5      1\n",
            "5          6      1\n",
            "6          7      1\n",
            "7          8      1\n",
            "8          9      1\n"
          ]
        }
      ],
      "source": [
        "# The Grid_Name column indicates the grid that is allocated in the drive time circle of Store_Grid. I.e. grid names 1 and 2 are the only grids with a POI and which have a drivetime circle associated with it.\n",
        "#The Demand for each grid in the toy example is 1\n",
        "file_path6 = os.path.join(base_path, 'Grid_Demand.txt')\n",
        "\n",
        "# Read the file\n",
        "Grid_Demand = pd.read_csv(file_path6, sep='|')\n",
        "\n",
        "# Convert grid_name to numeric if it's stored as string\n",
        "Grid_Demand['grid_name'] = Grid_Demand['grid_name'].astype(int)\n",
        "# Now sort\n",
        "Grid_Demand.sort_values('grid_name', inplace=True)\n",
        "Grid_Demand.reset_index(drop=True, inplace=True)\n",
        "print(Grid_Demand)"
      ]
    },
    {
      "cell_type": "code",
      "execution_count": 48,
      "metadata": {
        "id": "pxqEl82Hy12N",
        "outputId": "2cddef58-7ad0-48b2-f6fb-5f02b1908612",
        "colab": {
          "base_uri": "https://localhost:8080/"
        }
      },
      "outputs": [
        {
          "output_type": "stream",
          "name": "stdout",
          "text": [
            "   grid_name  total_sales\n",
            "0          1            4\n",
            "1          2            4\n"
          ]
        }
      ],
      "source": [
        "# The Grid_Name column indicates the grid that is allocated in the drive time circle of Store_Grid. I.e. grid names 1 and 2 are the only grids with a POI and which have a drivetime circle associated with it.\n",
        "# The supply for the toy example for P1 and P2 is 4\n",
        "file_path7 = os.path.join(base_path, 'Grid_Supply.txt')\n",
        "\n",
        "# Read the file\n",
        "Grid_Supply = pd.read_csv(file_path7, sep='|')\n",
        "print(Grid_Supply)"
      ]
    },
    {
      "cell_type": "code",
      "execution_count": 49,
      "metadata": {
        "id": "xmDUy9qzy12O",
        "outputId": "1541a809-bfa6-4c89-a3ee-1948bffbdd84",
        "colab": {
          "base_uri": "https://localhost:8080/",
          "height": 112
        }
      },
      "outputs": [
        {
          "output_type": "execute_result",
          "data": {
            "text/plain": [
              "   grid_name  Total_Grid_5min\n",
              "0          1             3.67\n",
              "1          2             3.33"
            ],
            "text/html": [
              "\n",
              "  <div id=\"df-e44172ec-6e59-411f-afcf-d4dfa57c9456\" class=\"colab-df-container\">\n",
              "    <div>\n",
              "<style scoped>\n",
              "    .dataframe tbody tr th:only-of-type {\n",
              "        vertical-align: middle;\n",
              "    }\n",
              "\n",
              "    .dataframe tbody tr th {\n",
              "        vertical-align: top;\n",
              "    }\n",
              "\n",
              "    .dataframe thead th {\n",
              "        text-align: right;\n",
              "    }\n",
              "</style>\n",
              "<table border=\"1\" class=\"dataframe\">\n",
              "  <thead>\n",
              "    <tr style=\"text-align: right;\">\n",
              "      <th></th>\n",
              "      <th>grid_name</th>\n",
              "      <th>Total_Grid_5min</th>\n",
              "    </tr>\n",
              "  </thead>\n",
              "  <tbody>\n",
              "    <tr>\n",
              "      <th>0</th>\n",
              "      <td>1</td>\n",
              "      <td>3.67</td>\n",
              "    </tr>\n",
              "    <tr>\n",
              "      <th>1</th>\n",
              "      <td>2</td>\n",
              "      <td>3.33</td>\n",
              "    </tr>\n",
              "  </tbody>\n",
              "</table>\n",
              "</div>\n",
              "    <div class=\"colab-df-buttons\">\n",
              "\n",
              "  <div class=\"colab-df-container\">\n",
              "    <button class=\"colab-df-convert\" onclick=\"convertToInteractive('df-e44172ec-6e59-411f-afcf-d4dfa57c9456')\"\n",
              "            title=\"Convert this dataframe to an interactive table.\"\n",
              "            style=\"display:none;\">\n",
              "\n",
              "  <svg xmlns=\"http://www.w3.org/2000/svg\" height=\"24px\" viewBox=\"0 -960 960 960\">\n",
              "    <path d=\"M120-120v-720h720v720H120Zm60-500h600v-160H180v160Zm220 220h160v-160H400v160Zm0 220h160v-160H400v160ZM180-400h160v-160H180v160Zm440 0h160v-160H620v160ZM180-180h160v-160H180v160Zm440 0h160v-160H620v160Z\"/>\n",
              "  </svg>\n",
              "    </button>\n",
              "\n",
              "  <style>\n",
              "    .colab-df-container {\n",
              "      display:flex;\n",
              "      gap: 12px;\n",
              "    }\n",
              "\n",
              "    .colab-df-convert {\n",
              "      background-color: #E8F0FE;\n",
              "      border: none;\n",
              "      border-radius: 50%;\n",
              "      cursor: pointer;\n",
              "      display: none;\n",
              "      fill: #1967D2;\n",
              "      height: 32px;\n",
              "      padding: 0 0 0 0;\n",
              "      width: 32px;\n",
              "    }\n",
              "\n",
              "    .colab-df-convert:hover {\n",
              "      background-color: #E2EBFA;\n",
              "      box-shadow: 0px 1px 2px rgba(60, 64, 67, 0.3), 0px 1px 3px 1px rgba(60, 64, 67, 0.15);\n",
              "      fill: #174EA6;\n",
              "    }\n",
              "\n",
              "    .colab-df-buttons div {\n",
              "      margin-bottom: 4px;\n",
              "    }\n",
              "\n",
              "    [theme=dark] .colab-df-convert {\n",
              "      background-color: #3B4455;\n",
              "      fill: #D2E3FC;\n",
              "    }\n",
              "\n",
              "    [theme=dark] .colab-df-convert:hover {\n",
              "      background-color: #434B5C;\n",
              "      box-shadow: 0px 1px 3px 1px rgba(0, 0, 0, 0.15);\n",
              "      filter: drop-shadow(0px 1px 2px rgba(0, 0, 0, 0.3));\n",
              "      fill: #FFFFFF;\n",
              "    }\n",
              "  </style>\n",
              "\n",
              "    <script>\n",
              "      const buttonEl =\n",
              "        document.querySelector('#df-e44172ec-6e59-411f-afcf-d4dfa57c9456 button.colab-df-convert');\n",
              "      buttonEl.style.display =\n",
              "        google.colab.kernel.accessAllowed ? 'block' : 'none';\n",
              "\n",
              "      async function convertToInteractive(key) {\n",
              "        const element = document.querySelector('#df-e44172ec-6e59-411f-afcf-d4dfa57c9456');\n",
              "        const dataTable =\n",
              "          await google.colab.kernel.invokeFunction('convertToInteractive',\n",
              "                                                    [key], {});\n",
              "        if (!dataTable) return;\n",
              "\n",
              "        const docLinkHtml = 'Like what you see? Visit the ' +\n",
              "          '<a target=\"_blank\" href=https://colab.research.google.com/notebooks/data_table.ipynb>data table notebook</a>'\n",
              "          + ' to learn more about interactive tables.';\n",
              "        element.innerHTML = '';\n",
              "        dataTable['output_type'] = 'display_data';\n",
              "        await google.colab.output.renderOutput(dataTable, element);\n",
              "        const docLink = document.createElement('div');\n",
              "        docLink.innerHTML = docLinkHtml;\n",
              "        element.appendChild(docLink);\n",
              "      }\n",
              "    </script>\n",
              "  </div>\n",
              "\n",
              "\n",
              "    <div id=\"df-23ff12fd-a2bf-408d-9aab-d5f4538d150f\">\n",
              "      <button class=\"colab-df-quickchart\" onclick=\"quickchart('df-23ff12fd-a2bf-408d-9aab-d5f4538d150f')\"\n",
              "                title=\"Suggest charts\"\n",
              "                style=\"display:none;\">\n",
              "\n",
              "<svg xmlns=\"http://www.w3.org/2000/svg\" height=\"24px\"viewBox=\"0 0 24 24\"\n",
              "     width=\"24px\">\n",
              "    <g>\n",
              "        <path d=\"M19 3H5c-1.1 0-2 .9-2 2v14c0 1.1.9 2 2 2h14c1.1 0 2-.9 2-2V5c0-1.1-.9-2-2-2zM9 17H7v-7h2v7zm4 0h-2V7h2v10zm4 0h-2v-4h2v4z\"/>\n",
              "    </g>\n",
              "</svg>\n",
              "      </button>\n",
              "\n",
              "<style>\n",
              "  .colab-df-quickchart {\n",
              "      --bg-color: #E8F0FE;\n",
              "      --fill-color: #1967D2;\n",
              "      --hover-bg-color: #E2EBFA;\n",
              "      --hover-fill-color: #174EA6;\n",
              "      --disabled-fill-color: #AAA;\n",
              "      --disabled-bg-color: #DDD;\n",
              "  }\n",
              "\n",
              "  [theme=dark] .colab-df-quickchart {\n",
              "      --bg-color: #3B4455;\n",
              "      --fill-color: #D2E3FC;\n",
              "      --hover-bg-color: #434B5C;\n",
              "      --hover-fill-color: #FFFFFF;\n",
              "      --disabled-bg-color: #3B4455;\n",
              "      --disabled-fill-color: #666;\n",
              "  }\n",
              "\n",
              "  .colab-df-quickchart {\n",
              "    background-color: var(--bg-color);\n",
              "    border: none;\n",
              "    border-radius: 50%;\n",
              "    cursor: pointer;\n",
              "    display: none;\n",
              "    fill: var(--fill-color);\n",
              "    height: 32px;\n",
              "    padding: 0;\n",
              "    width: 32px;\n",
              "  }\n",
              "\n",
              "  .colab-df-quickchart:hover {\n",
              "    background-color: var(--hover-bg-color);\n",
              "    box-shadow: 0 1px 2px rgba(60, 64, 67, 0.3), 0 1px 3px 1px rgba(60, 64, 67, 0.15);\n",
              "    fill: var(--button-hover-fill-color);\n",
              "  }\n",
              "\n",
              "  .colab-df-quickchart-complete:disabled,\n",
              "  .colab-df-quickchart-complete:disabled:hover {\n",
              "    background-color: var(--disabled-bg-color);\n",
              "    fill: var(--disabled-fill-color);\n",
              "    box-shadow: none;\n",
              "  }\n",
              "\n",
              "  .colab-df-spinner {\n",
              "    border: 2px solid var(--fill-color);\n",
              "    border-color: transparent;\n",
              "    border-bottom-color: var(--fill-color);\n",
              "    animation:\n",
              "      spin 1s steps(1) infinite;\n",
              "  }\n",
              "\n",
              "  @keyframes spin {\n",
              "    0% {\n",
              "      border-color: transparent;\n",
              "      border-bottom-color: var(--fill-color);\n",
              "      border-left-color: var(--fill-color);\n",
              "    }\n",
              "    20% {\n",
              "      border-color: transparent;\n",
              "      border-left-color: var(--fill-color);\n",
              "      border-top-color: var(--fill-color);\n",
              "    }\n",
              "    30% {\n",
              "      border-color: transparent;\n",
              "      border-left-color: var(--fill-color);\n",
              "      border-top-color: var(--fill-color);\n",
              "      border-right-color: var(--fill-color);\n",
              "    }\n",
              "    40% {\n",
              "      border-color: transparent;\n",
              "      border-right-color: var(--fill-color);\n",
              "      border-top-color: var(--fill-color);\n",
              "    }\n",
              "    60% {\n",
              "      border-color: transparent;\n",
              "      border-right-color: var(--fill-color);\n",
              "    }\n",
              "    80% {\n",
              "      border-color: transparent;\n",
              "      border-right-color: var(--fill-color);\n",
              "      border-bottom-color: var(--fill-color);\n",
              "    }\n",
              "    90% {\n",
              "      border-color: transparent;\n",
              "      border-bottom-color: var(--fill-color);\n",
              "    }\n",
              "  }\n",
              "</style>\n",
              "\n",
              "      <script>\n",
              "        async function quickchart(key) {\n",
              "          const quickchartButtonEl =\n",
              "            document.querySelector('#' + key + ' button');\n",
              "          quickchartButtonEl.disabled = true;  // To prevent multiple clicks.\n",
              "          quickchartButtonEl.classList.add('colab-df-spinner');\n",
              "          try {\n",
              "            const charts = await google.colab.kernel.invokeFunction(\n",
              "                'suggestCharts', [key], {});\n",
              "          } catch (error) {\n",
              "            console.error('Error during call to suggestCharts:', error);\n",
              "          }\n",
              "          quickchartButtonEl.classList.remove('colab-df-spinner');\n",
              "          quickchartButtonEl.classList.add('colab-df-quickchart-complete');\n",
              "        }\n",
              "        (() => {\n",
              "          let quickchartButtonEl =\n",
              "            document.querySelector('#df-23ff12fd-a2bf-408d-9aab-d5f4538d150f button');\n",
              "          quickchartButtonEl.style.display =\n",
              "            google.colab.kernel.accessAllowed ? 'block' : 'none';\n",
              "        })();\n",
              "      </script>\n",
              "    </div>\n",
              "\n",
              "    </div>\n",
              "  </div>\n"
            ],
            "application/vnd.google.colaboratory.intrinsic+json": {
              "type": "dataframe",
              "summary": "{\n  \"name\": \"Total_Grid_Demand_5min\",\n  \"rows\": 2,\n  \"fields\": [\n    {\n      \"column\": \"grid_name\",\n      \"properties\": {\n        \"dtype\": \"number\",\n        \"std\": 0,\n        \"min\": 1,\n        \"max\": 2,\n        \"num_unique_values\": 2,\n        \"samples\": [\n          2,\n          1\n        ],\n        \"semantic_type\": \"\",\n        \"description\": \"\"\n      }\n    },\n    {\n      \"column\": \"Total_Grid_5min\",\n      \"properties\": {\n        \"dtype\": \"number\",\n        \"std\": 0.24041630560342606,\n        \"min\": 3.33,\n        \"max\": 3.67,\n        \"num_unique_values\": 2,\n        \"samples\": [\n          3.33,\n          3.67\n        ],\n        \"semantic_type\": \"\",\n        \"description\": \"\"\n      }\n    }\n  ]\n}"
            }
          },
          "metadata": {},
          "execution_count": 49
        }
      ],
      "source": [
        "#Calculate the total demand per grid based on the drive time rings: Demand at 5 minute drive-times\n",
        "Grid_Demand=pd.DataFrame(Grid_Demand)\n",
        "Grid_T=Grid_Demand.Total\n",
        "res5_T=res5.T\n",
        "\n",
        "Grid_Demand_5min=np.multiply(res5_T,Grid_T)\n",
        "Grid_Demand_5min=Grid_Demand_5min.T\n",
        "\n",
        "Total_Grid_Demand_5min=round(Grid_Demand_5min.sum(axis='rows'),2)\n",
        "Total_Grid_Demand_5min=pd.DataFrame(Total_Grid_Demand_5min)\n",
        "Total_Grid_Demand_5min.rename(columns={0:'Total_Grid_5min'})\n",
        "Total_Grid_Demand_5min.insert(0, 'grid_name', range(1, 1 + len(Total_Grid_Demand_5min)))\n",
        "Total_Grid_Demand_5min.rename(columns={0:'Total_Grid_5min'})"
      ]
    },
    {
      "cell_type": "code",
      "execution_count": 50,
      "metadata": {
        "id": "p-xzHeThy12O",
        "outputId": "65324e77-38ba-4a5f-d18b-a7a2a3cffade",
        "colab": {
          "base_uri": "https://localhost:8080/",
          "height": 112
        }
      },
      "outputs": [
        {
          "output_type": "execute_result",
          "data": {
            "text/plain": [
              "   grid_name  Total_Grid_10min\n",
              "0          1              3.67\n",
              "1          2              3.33"
            ],
            "text/html": [
              "\n",
              "  <div id=\"df-c6c02488-7b7b-43b7-9886-80520a32c28d\" class=\"colab-df-container\">\n",
              "    <div>\n",
              "<style scoped>\n",
              "    .dataframe tbody tr th:only-of-type {\n",
              "        vertical-align: middle;\n",
              "    }\n",
              "\n",
              "    .dataframe tbody tr th {\n",
              "        vertical-align: top;\n",
              "    }\n",
              "\n",
              "    .dataframe thead th {\n",
              "        text-align: right;\n",
              "    }\n",
              "</style>\n",
              "<table border=\"1\" class=\"dataframe\">\n",
              "  <thead>\n",
              "    <tr style=\"text-align: right;\">\n",
              "      <th></th>\n",
              "      <th>grid_name</th>\n",
              "      <th>Total_Grid_10min</th>\n",
              "    </tr>\n",
              "  </thead>\n",
              "  <tbody>\n",
              "    <tr>\n",
              "      <th>0</th>\n",
              "      <td>1</td>\n",
              "      <td>3.67</td>\n",
              "    </tr>\n",
              "    <tr>\n",
              "      <th>1</th>\n",
              "      <td>2</td>\n",
              "      <td>3.33</td>\n",
              "    </tr>\n",
              "  </tbody>\n",
              "</table>\n",
              "</div>\n",
              "    <div class=\"colab-df-buttons\">\n",
              "\n",
              "  <div class=\"colab-df-container\">\n",
              "    <button class=\"colab-df-convert\" onclick=\"convertToInteractive('df-c6c02488-7b7b-43b7-9886-80520a32c28d')\"\n",
              "            title=\"Convert this dataframe to an interactive table.\"\n",
              "            style=\"display:none;\">\n",
              "\n",
              "  <svg xmlns=\"http://www.w3.org/2000/svg\" height=\"24px\" viewBox=\"0 -960 960 960\">\n",
              "    <path d=\"M120-120v-720h720v720H120Zm60-500h600v-160H180v160Zm220 220h160v-160H400v160Zm0 220h160v-160H400v160ZM180-400h160v-160H180v160Zm440 0h160v-160H620v160ZM180-180h160v-160H180v160Zm440 0h160v-160H620v160Z\"/>\n",
              "  </svg>\n",
              "    </button>\n",
              "\n",
              "  <style>\n",
              "    .colab-df-container {\n",
              "      display:flex;\n",
              "      gap: 12px;\n",
              "    }\n",
              "\n",
              "    .colab-df-convert {\n",
              "      background-color: #E8F0FE;\n",
              "      border: none;\n",
              "      border-radius: 50%;\n",
              "      cursor: pointer;\n",
              "      display: none;\n",
              "      fill: #1967D2;\n",
              "      height: 32px;\n",
              "      padding: 0 0 0 0;\n",
              "      width: 32px;\n",
              "    }\n",
              "\n",
              "    .colab-df-convert:hover {\n",
              "      background-color: #E2EBFA;\n",
              "      box-shadow: 0px 1px 2px rgba(60, 64, 67, 0.3), 0px 1px 3px 1px rgba(60, 64, 67, 0.15);\n",
              "      fill: #174EA6;\n",
              "    }\n",
              "\n",
              "    .colab-df-buttons div {\n",
              "      margin-bottom: 4px;\n",
              "    }\n",
              "\n",
              "    [theme=dark] .colab-df-convert {\n",
              "      background-color: #3B4455;\n",
              "      fill: #D2E3FC;\n",
              "    }\n",
              "\n",
              "    [theme=dark] .colab-df-convert:hover {\n",
              "      background-color: #434B5C;\n",
              "      box-shadow: 0px 1px 3px 1px rgba(0, 0, 0, 0.15);\n",
              "      filter: drop-shadow(0px 1px 2px rgba(0, 0, 0, 0.3));\n",
              "      fill: #FFFFFF;\n",
              "    }\n",
              "  </style>\n",
              "\n",
              "    <script>\n",
              "      const buttonEl =\n",
              "        document.querySelector('#df-c6c02488-7b7b-43b7-9886-80520a32c28d button.colab-df-convert');\n",
              "      buttonEl.style.display =\n",
              "        google.colab.kernel.accessAllowed ? 'block' : 'none';\n",
              "\n",
              "      async function convertToInteractive(key) {\n",
              "        const element = document.querySelector('#df-c6c02488-7b7b-43b7-9886-80520a32c28d');\n",
              "        const dataTable =\n",
              "          await google.colab.kernel.invokeFunction('convertToInteractive',\n",
              "                                                    [key], {});\n",
              "        if (!dataTable) return;\n",
              "\n",
              "        const docLinkHtml = 'Like what you see? Visit the ' +\n",
              "          '<a target=\"_blank\" href=https://colab.research.google.com/notebooks/data_table.ipynb>data table notebook</a>'\n",
              "          + ' to learn more about interactive tables.';\n",
              "        element.innerHTML = '';\n",
              "        dataTable['output_type'] = 'display_data';\n",
              "        await google.colab.output.renderOutput(dataTable, element);\n",
              "        const docLink = document.createElement('div');\n",
              "        docLink.innerHTML = docLinkHtml;\n",
              "        element.appendChild(docLink);\n",
              "      }\n",
              "    </script>\n",
              "  </div>\n",
              "\n",
              "\n",
              "    <div id=\"df-03794493-3799-4de7-a0b0-cdf012fb7c51\">\n",
              "      <button class=\"colab-df-quickchart\" onclick=\"quickchart('df-03794493-3799-4de7-a0b0-cdf012fb7c51')\"\n",
              "                title=\"Suggest charts\"\n",
              "                style=\"display:none;\">\n",
              "\n",
              "<svg xmlns=\"http://www.w3.org/2000/svg\" height=\"24px\"viewBox=\"0 0 24 24\"\n",
              "     width=\"24px\">\n",
              "    <g>\n",
              "        <path d=\"M19 3H5c-1.1 0-2 .9-2 2v14c0 1.1.9 2 2 2h14c1.1 0 2-.9 2-2V5c0-1.1-.9-2-2-2zM9 17H7v-7h2v7zm4 0h-2V7h2v10zm4 0h-2v-4h2v4z\"/>\n",
              "    </g>\n",
              "</svg>\n",
              "      </button>\n",
              "\n",
              "<style>\n",
              "  .colab-df-quickchart {\n",
              "      --bg-color: #E8F0FE;\n",
              "      --fill-color: #1967D2;\n",
              "      --hover-bg-color: #E2EBFA;\n",
              "      --hover-fill-color: #174EA6;\n",
              "      --disabled-fill-color: #AAA;\n",
              "      --disabled-bg-color: #DDD;\n",
              "  }\n",
              "\n",
              "  [theme=dark] .colab-df-quickchart {\n",
              "      --bg-color: #3B4455;\n",
              "      --fill-color: #D2E3FC;\n",
              "      --hover-bg-color: #434B5C;\n",
              "      --hover-fill-color: #FFFFFF;\n",
              "      --disabled-bg-color: #3B4455;\n",
              "      --disabled-fill-color: #666;\n",
              "  }\n",
              "\n",
              "  .colab-df-quickchart {\n",
              "    background-color: var(--bg-color);\n",
              "    border: none;\n",
              "    border-radius: 50%;\n",
              "    cursor: pointer;\n",
              "    display: none;\n",
              "    fill: var(--fill-color);\n",
              "    height: 32px;\n",
              "    padding: 0;\n",
              "    width: 32px;\n",
              "  }\n",
              "\n",
              "  .colab-df-quickchart:hover {\n",
              "    background-color: var(--hover-bg-color);\n",
              "    box-shadow: 0 1px 2px rgba(60, 64, 67, 0.3), 0 1px 3px 1px rgba(60, 64, 67, 0.15);\n",
              "    fill: var(--button-hover-fill-color);\n",
              "  }\n",
              "\n",
              "  .colab-df-quickchart-complete:disabled,\n",
              "  .colab-df-quickchart-complete:disabled:hover {\n",
              "    background-color: var(--disabled-bg-color);\n",
              "    fill: var(--disabled-fill-color);\n",
              "    box-shadow: none;\n",
              "  }\n",
              "\n",
              "  .colab-df-spinner {\n",
              "    border: 2px solid var(--fill-color);\n",
              "    border-color: transparent;\n",
              "    border-bottom-color: var(--fill-color);\n",
              "    animation:\n",
              "      spin 1s steps(1) infinite;\n",
              "  }\n",
              "\n",
              "  @keyframes spin {\n",
              "    0% {\n",
              "      border-color: transparent;\n",
              "      border-bottom-color: var(--fill-color);\n",
              "      border-left-color: var(--fill-color);\n",
              "    }\n",
              "    20% {\n",
              "      border-color: transparent;\n",
              "      border-left-color: var(--fill-color);\n",
              "      border-top-color: var(--fill-color);\n",
              "    }\n",
              "    30% {\n",
              "      border-color: transparent;\n",
              "      border-left-color: var(--fill-color);\n",
              "      border-top-color: var(--fill-color);\n",
              "      border-right-color: var(--fill-color);\n",
              "    }\n",
              "    40% {\n",
              "      border-color: transparent;\n",
              "      border-right-color: var(--fill-color);\n",
              "      border-top-color: var(--fill-color);\n",
              "    }\n",
              "    60% {\n",
              "      border-color: transparent;\n",
              "      border-right-color: var(--fill-color);\n",
              "    }\n",
              "    80% {\n",
              "      border-color: transparent;\n",
              "      border-right-color: var(--fill-color);\n",
              "      border-bottom-color: var(--fill-color);\n",
              "    }\n",
              "    90% {\n",
              "      border-color: transparent;\n",
              "      border-bottom-color: var(--fill-color);\n",
              "    }\n",
              "  }\n",
              "</style>\n",
              "\n",
              "      <script>\n",
              "        async function quickchart(key) {\n",
              "          const quickchartButtonEl =\n",
              "            document.querySelector('#' + key + ' button');\n",
              "          quickchartButtonEl.disabled = true;  // To prevent multiple clicks.\n",
              "          quickchartButtonEl.classList.add('colab-df-spinner');\n",
              "          try {\n",
              "            const charts = await google.colab.kernel.invokeFunction(\n",
              "                'suggestCharts', [key], {});\n",
              "          } catch (error) {\n",
              "            console.error('Error during call to suggestCharts:', error);\n",
              "          }\n",
              "          quickchartButtonEl.classList.remove('colab-df-spinner');\n",
              "          quickchartButtonEl.classList.add('colab-df-quickchart-complete');\n",
              "        }\n",
              "        (() => {\n",
              "          let quickchartButtonEl =\n",
              "            document.querySelector('#df-03794493-3799-4de7-a0b0-cdf012fb7c51 button');\n",
              "          quickchartButtonEl.style.display =\n",
              "            google.colab.kernel.accessAllowed ? 'block' : 'none';\n",
              "        })();\n",
              "      </script>\n",
              "    </div>\n",
              "\n",
              "    </div>\n",
              "  </div>\n"
            ],
            "application/vnd.google.colaboratory.intrinsic+json": {
              "type": "dataframe",
              "summary": "{\n  \"name\": \"Total_Grid_Demand_10min\",\n  \"rows\": 2,\n  \"fields\": [\n    {\n      \"column\": \"grid_name\",\n      \"properties\": {\n        \"dtype\": \"number\",\n        \"std\": 0,\n        \"min\": 1,\n        \"max\": 2,\n        \"num_unique_values\": 2,\n        \"samples\": [\n          2,\n          1\n        ],\n        \"semantic_type\": \"\",\n        \"description\": \"\"\n      }\n    },\n    {\n      \"column\": \"Total_Grid_10min\",\n      \"properties\": {\n        \"dtype\": \"number\",\n        \"std\": 0.24041630560342606,\n        \"min\": 3.33,\n        \"max\": 3.67,\n        \"num_unique_values\": 2,\n        \"samples\": [\n          3.33,\n          3.67\n        ],\n        \"semantic_type\": \"\",\n        \"description\": \"\"\n      }\n    }\n  ]\n}"
            }
          },
          "metadata": {},
          "execution_count": 50
        }
      ],
      "source": [
        "#Calculate the total demand per grid based on the drive time rings: Demand at 10 minute drive-times\n",
        "Grid_Demand=pd.DataFrame(Grid_Demand)\n",
        "Grid_T=Grid_Demand.Total\n",
        "res10_T=res10.T\n",
        "\n",
        "Grid_Demand_10min=np.multiply(res10_T,Grid_T)\n",
        "Grid_Demand_10min=Grid_Demand_10min.T\n",
        "Total_Grid_Demand_10min=round(Grid_Demand_10min.sum(axis='rows'),2)\n",
        "Total_Grid_Demand_10min=pd.DataFrame(Total_Grid_Demand_10min)\n",
        "Total_Grid_Demand_10min.rename(columns={0:'Total_Grid_10min'})\n",
        "Total_Grid_Demand_10min.insert(0, 'grid_name', range(1, 1 + len(Total_Grid_Demand_10min)))\n",
        "Total_Grid_Demand_10min.rename(columns={0:'Total_Grid_10min'})"
      ]
    },
    {
      "cell_type": "code",
      "execution_count": 51,
      "metadata": {
        "id": "CBy3qAh-y12O",
        "outputId": "b8affbc5-df28-4c86-d3d8-e14ea0dce1c3",
        "colab": {
          "base_uri": "https://localhost:8080/",
          "height": 112
        }
      },
      "outputs": [
        {
          "output_type": "execute_result",
          "data": {
            "text/plain": [
              "   grid_name  Total_Grid_15min\n",
              "0          1              3.67\n",
              "1          2              3.33"
            ],
            "text/html": [
              "\n",
              "  <div id=\"df-429a5eb4-4cfa-4737-ba56-14b07212644d\" class=\"colab-df-container\">\n",
              "    <div>\n",
              "<style scoped>\n",
              "    .dataframe tbody tr th:only-of-type {\n",
              "        vertical-align: middle;\n",
              "    }\n",
              "\n",
              "    .dataframe tbody tr th {\n",
              "        vertical-align: top;\n",
              "    }\n",
              "\n",
              "    .dataframe thead th {\n",
              "        text-align: right;\n",
              "    }\n",
              "</style>\n",
              "<table border=\"1\" class=\"dataframe\">\n",
              "  <thead>\n",
              "    <tr style=\"text-align: right;\">\n",
              "      <th></th>\n",
              "      <th>grid_name</th>\n",
              "      <th>Total_Grid_15min</th>\n",
              "    </tr>\n",
              "  </thead>\n",
              "  <tbody>\n",
              "    <tr>\n",
              "      <th>0</th>\n",
              "      <td>1</td>\n",
              "      <td>3.67</td>\n",
              "    </tr>\n",
              "    <tr>\n",
              "      <th>1</th>\n",
              "      <td>2</td>\n",
              "      <td>3.33</td>\n",
              "    </tr>\n",
              "  </tbody>\n",
              "</table>\n",
              "</div>\n",
              "    <div class=\"colab-df-buttons\">\n",
              "\n",
              "  <div class=\"colab-df-container\">\n",
              "    <button class=\"colab-df-convert\" onclick=\"convertToInteractive('df-429a5eb4-4cfa-4737-ba56-14b07212644d')\"\n",
              "            title=\"Convert this dataframe to an interactive table.\"\n",
              "            style=\"display:none;\">\n",
              "\n",
              "  <svg xmlns=\"http://www.w3.org/2000/svg\" height=\"24px\" viewBox=\"0 -960 960 960\">\n",
              "    <path d=\"M120-120v-720h720v720H120Zm60-500h600v-160H180v160Zm220 220h160v-160H400v160Zm0 220h160v-160H400v160ZM180-400h160v-160H180v160Zm440 0h160v-160H620v160ZM180-180h160v-160H180v160Zm440 0h160v-160H620v160Z\"/>\n",
              "  </svg>\n",
              "    </button>\n",
              "\n",
              "  <style>\n",
              "    .colab-df-container {\n",
              "      display:flex;\n",
              "      gap: 12px;\n",
              "    }\n",
              "\n",
              "    .colab-df-convert {\n",
              "      background-color: #E8F0FE;\n",
              "      border: none;\n",
              "      border-radius: 50%;\n",
              "      cursor: pointer;\n",
              "      display: none;\n",
              "      fill: #1967D2;\n",
              "      height: 32px;\n",
              "      padding: 0 0 0 0;\n",
              "      width: 32px;\n",
              "    }\n",
              "\n",
              "    .colab-df-convert:hover {\n",
              "      background-color: #E2EBFA;\n",
              "      box-shadow: 0px 1px 2px rgba(60, 64, 67, 0.3), 0px 1px 3px 1px rgba(60, 64, 67, 0.15);\n",
              "      fill: #174EA6;\n",
              "    }\n",
              "\n",
              "    .colab-df-buttons div {\n",
              "      margin-bottom: 4px;\n",
              "    }\n",
              "\n",
              "    [theme=dark] .colab-df-convert {\n",
              "      background-color: #3B4455;\n",
              "      fill: #D2E3FC;\n",
              "    }\n",
              "\n",
              "    [theme=dark] .colab-df-convert:hover {\n",
              "      background-color: #434B5C;\n",
              "      box-shadow: 0px 1px 3px 1px rgba(0, 0, 0, 0.15);\n",
              "      filter: drop-shadow(0px 1px 2px rgba(0, 0, 0, 0.3));\n",
              "      fill: #FFFFFF;\n",
              "    }\n",
              "  </style>\n",
              "\n",
              "    <script>\n",
              "      const buttonEl =\n",
              "        document.querySelector('#df-429a5eb4-4cfa-4737-ba56-14b07212644d button.colab-df-convert');\n",
              "      buttonEl.style.display =\n",
              "        google.colab.kernel.accessAllowed ? 'block' : 'none';\n",
              "\n",
              "      async function convertToInteractive(key) {\n",
              "        const element = document.querySelector('#df-429a5eb4-4cfa-4737-ba56-14b07212644d');\n",
              "        const dataTable =\n",
              "          await google.colab.kernel.invokeFunction('convertToInteractive',\n",
              "                                                    [key], {});\n",
              "        if (!dataTable) return;\n",
              "\n",
              "        const docLinkHtml = 'Like what you see? Visit the ' +\n",
              "          '<a target=\"_blank\" href=https://colab.research.google.com/notebooks/data_table.ipynb>data table notebook</a>'\n",
              "          + ' to learn more about interactive tables.';\n",
              "        element.innerHTML = '';\n",
              "        dataTable['output_type'] = 'display_data';\n",
              "        await google.colab.output.renderOutput(dataTable, element);\n",
              "        const docLink = document.createElement('div');\n",
              "        docLink.innerHTML = docLinkHtml;\n",
              "        element.appendChild(docLink);\n",
              "      }\n",
              "    </script>\n",
              "  </div>\n",
              "\n",
              "\n",
              "    <div id=\"df-cbdb035e-5791-488e-92e1-f7c966c0e651\">\n",
              "      <button class=\"colab-df-quickchart\" onclick=\"quickchart('df-cbdb035e-5791-488e-92e1-f7c966c0e651')\"\n",
              "                title=\"Suggest charts\"\n",
              "                style=\"display:none;\">\n",
              "\n",
              "<svg xmlns=\"http://www.w3.org/2000/svg\" height=\"24px\"viewBox=\"0 0 24 24\"\n",
              "     width=\"24px\">\n",
              "    <g>\n",
              "        <path d=\"M19 3H5c-1.1 0-2 .9-2 2v14c0 1.1.9 2 2 2h14c1.1 0 2-.9 2-2V5c0-1.1-.9-2-2-2zM9 17H7v-7h2v7zm4 0h-2V7h2v10zm4 0h-2v-4h2v4z\"/>\n",
              "    </g>\n",
              "</svg>\n",
              "      </button>\n",
              "\n",
              "<style>\n",
              "  .colab-df-quickchart {\n",
              "      --bg-color: #E8F0FE;\n",
              "      --fill-color: #1967D2;\n",
              "      --hover-bg-color: #E2EBFA;\n",
              "      --hover-fill-color: #174EA6;\n",
              "      --disabled-fill-color: #AAA;\n",
              "      --disabled-bg-color: #DDD;\n",
              "  }\n",
              "\n",
              "  [theme=dark] .colab-df-quickchart {\n",
              "      --bg-color: #3B4455;\n",
              "      --fill-color: #D2E3FC;\n",
              "      --hover-bg-color: #434B5C;\n",
              "      --hover-fill-color: #FFFFFF;\n",
              "      --disabled-bg-color: #3B4455;\n",
              "      --disabled-fill-color: #666;\n",
              "  }\n",
              "\n",
              "  .colab-df-quickchart {\n",
              "    background-color: var(--bg-color);\n",
              "    border: none;\n",
              "    border-radius: 50%;\n",
              "    cursor: pointer;\n",
              "    display: none;\n",
              "    fill: var(--fill-color);\n",
              "    height: 32px;\n",
              "    padding: 0;\n",
              "    width: 32px;\n",
              "  }\n",
              "\n",
              "  .colab-df-quickchart:hover {\n",
              "    background-color: var(--hover-bg-color);\n",
              "    box-shadow: 0 1px 2px rgba(60, 64, 67, 0.3), 0 1px 3px 1px rgba(60, 64, 67, 0.15);\n",
              "    fill: var(--button-hover-fill-color);\n",
              "  }\n",
              "\n",
              "  .colab-df-quickchart-complete:disabled,\n",
              "  .colab-df-quickchart-complete:disabled:hover {\n",
              "    background-color: var(--disabled-bg-color);\n",
              "    fill: var(--disabled-fill-color);\n",
              "    box-shadow: none;\n",
              "  }\n",
              "\n",
              "  .colab-df-spinner {\n",
              "    border: 2px solid var(--fill-color);\n",
              "    border-color: transparent;\n",
              "    border-bottom-color: var(--fill-color);\n",
              "    animation:\n",
              "      spin 1s steps(1) infinite;\n",
              "  }\n",
              "\n",
              "  @keyframes spin {\n",
              "    0% {\n",
              "      border-color: transparent;\n",
              "      border-bottom-color: var(--fill-color);\n",
              "      border-left-color: var(--fill-color);\n",
              "    }\n",
              "    20% {\n",
              "      border-color: transparent;\n",
              "      border-left-color: var(--fill-color);\n",
              "      border-top-color: var(--fill-color);\n",
              "    }\n",
              "    30% {\n",
              "      border-color: transparent;\n",
              "      border-left-color: var(--fill-color);\n",
              "      border-top-color: var(--fill-color);\n",
              "      border-right-color: var(--fill-color);\n",
              "    }\n",
              "    40% {\n",
              "      border-color: transparent;\n",
              "      border-right-color: var(--fill-color);\n",
              "      border-top-color: var(--fill-color);\n",
              "    }\n",
              "    60% {\n",
              "      border-color: transparent;\n",
              "      border-right-color: var(--fill-color);\n",
              "    }\n",
              "    80% {\n",
              "      border-color: transparent;\n",
              "      border-right-color: var(--fill-color);\n",
              "      border-bottom-color: var(--fill-color);\n",
              "    }\n",
              "    90% {\n",
              "      border-color: transparent;\n",
              "      border-bottom-color: var(--fill-color);\n",
              "    }\n",
              "  }\n",
              "</style>\n",
              "\n",
              "      <script>\n",
              "        async function quickchart(key) {\n",
              "          const quickchartButtonEl =\n",
              "            document.querySelector('#' + key + ' button');\n",
              "          quickchartButtonEl.disabled = true;  // To prevent multiple clicks.\n",
              "          quickchartButtonEl.classList.add('colab-df-spinner');\n",
              "          try {\n",
              "            const charts = await google.colab.kernel.invokeFunction(\n",
              "                'suggestCharts', [key], {});\n",
              "          } catch (error) {\n",
              "            console.error('Error during call to suggestCharts:', error);\n",
              "          }\n",
              "          quickchartButtonEl.classList.remove('colab-df-spinner');\n",
              "          quickchartButtonEl.classList.add('colab-df-quickchart-complete');\n",
              "        }\n",
              "        (() => {\n",
              "          let quickchartButtonEl =\n",
              "            document.querySelector('#df-cbdb035e-5791-488e-92e1-f7c966c0e651 button');\n",
              "          quickchartButtonEl.style.display =\n",
              "            google.colab.kernel.accessAllowed ? 'block' : 'none';\n",
              "        })();\n",
              "      </script>\n",
              "    </div>\n",
              "\n",
              "    </div>\n",
              "  </div>\n"
            ],
            "application/vnd.google.colaboratory.intrinsic+json": {
              "type": "dataframe",
              "summary": "{\n  \"name\": \"Total_Grid_Demand_15min\",\n  \"rows\": 2,\n  \"fields\": [\n    {\n      \"column\": \"grid_name\",\n      \"properties\": {\n        \"dtype\": \"number\",\n        \"std\": 0,\n        \"min\": 1,\n        \"max\": 2,\n        \"num_unique_values\": 2,\n        \"samples\": [\n          2,\n          1\n        ],\n        \"semantic_type\": \"\",\n        \"description\": \"\"\n      }\n    },\n    {\n      \"column\": \"Total_Grid_15min\",\n      \"properties\": {\n        \"dtype\": \"number\",\n        \"std\": 0.24041630560342606,\n        \"min\": 3.33,\n        \"max\": 3.67,\n        \"num_unique_values\": 2,\n        \"samples\": [\n          3.33,\n          3.67\n        ],\n        \"semantic_type\": \"\",\n        \"description\": \"\"\n      }\n    }\n  ]\n}"
            }
          },
          "metadata": {},
          "execution_count": 51
        }
      ],
      "source": [
        "#Calculate the total demand per grid based on the drive time rings: Demand at 15 minute drive-times\n",
        "Grid_Demand=pd.DataFrame(Grid_Demand)\n",
        "Grid_T=Grid_Demand.Total\n",
        "res15_T=res15.T\n",
        "\n",
        "Grid_Demand_15min=np.multiply(res15_T,Grid_T)\n",
        "Grid_Demand_15min=Grid_Demand_15min.T\n",
        "Total_Grid_Demand_15min=round(Grid_Demand_15min.sum(axis='rows'),2)\n",
        "Total_Grid_Demand_15min=pd.DataFrame(Total_Grid_Demand_15min)\n",
        "Total_Grid_Demand_15min.rename(columns={0:'Total_Grid_15min'})\n",
        "Total_Grid_Demand_15min.insert(0, 'grid_name', range(1, 1 + len(Total_Grid_Demand_15min)))\n",
        "Total_Grid_Demand_15min.rename(columns={0:'Total_Grid_15min'})"
      ]
    },
    {
      "cell_type": "code",
      "execution_count": 52,
      "metadata": {
        "id": "PlPSTAcsy12O",
        "outputId": "a33967da-b45b-4821-8859-db37343095c3",
        "colab": {
          "base_uri": "https://localhost:8080/"
        }
      },
      "outputs": [
        {
          "output_type": "stream",
          "name": "stdout",
          "text": [
            "   grid_name  Total_Sales  Total_Demand_5min  Total_Demand_10min  \\\n",
            "0          1            4               3.67                3.67   \n",
            "1          2            4               3.33                3.33   \n",
            "\n",
            "   Total_Demand_15min  \n",
            "0                3.67  \n",
            "1                3.33  \n"
          ]
        }
      ],
      "source": [
        "# Step 2: Manually set correct column names\n",
        "Grid_Supply.columns = ['grid_name', 'Total_Sales']\n",
        "Total_Grid_Demand_5min.columns = ['grid_name', 'Total_Demand_5min']\n",
        "Total_Grid_Demand_10min.columns = ['grid_name', 'Total_Demand_10min']\n",
        "Total_Grid_Demand_15min.columns = ['grid_name', 'Total_Demand_15min']\n",
        "\n",
        "# Step 3: Merge cleanly\n",
        "df_merged = reduce(\n",
        "    lambda left, right: pd.merge(left, right, on='grid_name', how='outer'),\n",
        "    [Grid_Supply, Total_Grid_Demand_5min, Total_Grid_Demand_10min, Total_Grid_Demand_15min]\n",
        ")\n",
        "\n",
        "df_merged = reduce(\n",
        "    lambda left, right: pd.merge(left, right, on='grid_name', how='outer'),\n",
        "    [Grid_Supply, Total_Grid_Demand_5min, Total_Grid_Demand_10min, Total_Grid_Demand_15min]\n",
        ")\n",
        "print(df_merged)"
      ]
    },
    {
      "cell_type": "code",
      "execution_count": 53,
      "metadata": {
        "id": "mhFQITAzy12O",
        "outputId": "28d18c98-9130-4af1-a685-2f10150a1639",
        "colab": {
          "base_uri": "https://localhost:8080/"
        }
      },
      "outputs": [
        {
          "output_type": "stream",
          "name": "stdout",
          "text": [
            "   grid_name  Total_Sales  Total_Demand_5min  Total_Demand_10min  \\\n",
            "0          1            4               3.67                3.67   \n",
            "1          2            4               3.33                3.33   \n",
            "\n",
            "   Total_Demand_15min  AR_5min  AR_10min  AR_15min  \n",
            "0                3.67     1.09      1.09      1.09  \n",
            "1                3.33     1.20      1.20      1.20  \n"
          ]
        }
      ],
      "source": [
        "#Add Supply-Demand Ratio for each drive-time. Since for the toy example all drivetimes are the same, the supply-demand ratio is also the same for 5,10 and 15min\n",
        "# Replace NaNs with 0\n",
        "df_merged['Total_Sales'] = df_merged['Total_Sales'].fillna(0)\n",
        "df_merged['Total_Demand_5min'] = df_merged['Total_Demand_5min'].fillna(0)\n",
        "\n",
        "# Convert to numeric in case of object type\n",
        "df_merged['Total_Sales'] = pd.to_numeric(df_merged['Total_Sales'], errors='coerce')\n",
        "df_merged['Total_Demand_5min'] = pd.to_numeric(df_merged['Total_Demand_5min'], errors='coerce')\n",
        "\n",
        "# Add new columns\n",
        "df_merged['AR_5min'] = df_merged['Total_Sales'] / df_merged['Total_Demand_5min']\n",
        "df_merged['AR_10min'] = df_merged['Total_Sales'] / df_merged['Total_Demand_10min']\n",
        "df_merged['AR_15min'] = df_merged['Total_Sales'] / df_merged['Total_Demand_15min']\n",
        "\n",
        "# Clean the rest\n",
        "df_merged = df_merged.fillna(0)\n",
        "df_merged = df_merged.sort_values(['grid_name'])  # Make sure to use the correct column name\n",
        "df_merged = df_merged.round(2)\n",
        "\n",
        "print(df_merged)\n",
        "\n",
        "#The supply-demand ration for P1 is 1.09 and the supply-demand ration for P2 is 1.2"
      ]
    },
    {
      "cell_type": "markdown",
      "metadata": {
        "id": "kBubawe1y12O"
      },
      "source": [
        "# Calculate the accessibility per grid"
      ]
    },
    {
      "cell_type": "code",
      "execution_count": 56,
      "metadata": {
        "id": "pZAtozVsy12O",
        "outputId": "642f549b-f97f-4e99-807f-d1201f79a4ae",
        "colab": {
          "base_uri": "https://localhost:8080/"
        }
      },
      "outputs": [
        {
          "output_type": "stream",
          "name": "stdout",
          "text": [
            "✅ Updated Accessibility DataFrame:\n",
            "   Accessibility_5min  Accessibility_10min  Accessibility_15min\n",
            "0                1.09                 1.09                 1.09\n",
            "1                1.20                 1.20                 1.20\n",
            "2                0.00                 0.00                 0.00\n",
            "3                1.09                 1.09                 1.09\n",
            "4                1.20                 1.20                 1.20\n",
            "5                2.29                 2.29                 2.29\n",
            "6                1.09                 1.09                 1.09\n",
            "7                1.20                 1.20                 1.20\n",
            "8                0.00                 0.00                 0.00\n"
          ]
        }
      ],
      "source": [
        "# Step 1: Remove last column using .iloc (pandas-safe)\n",
        "Dist5_trimmed = Dist5.iloc[:, :-1]\n",
        "Dist10_trimmed = Dist10.iloc[:, :-1]\n",
        "Dist15_trimmed = Dist15.iloc[:, :-1]\n",
        "\n",
        "# Step 2: Matrix multiplication (convert to NumPy)\n",
        "Accessibility_5min = np.matmul(Dist5_trimmed.values, df_merged['AR_5min'].values)\n",
        "Accessibility_10min = np.matmul(Dist10_trimmed.values, df_merged['AR_10min'].values)\n",
        "Accessibility_15min = np.matmul(Dist15_trimmed.values, df_merged['AR_15min'].values)\n",
        "\n",
        "# Step 3: Stack and format output\n",
        "Accessibility = pd.DataFrame(\n",
        "    np.vstack([Accessibility_5min, Accessibility_10min, Accessibility_15min]).T,\n",
        "    columns=['Accessibility_5min', 'Accessibility_10min', 'Accessibility_15min']\n",
        ")\n",
        "\n",
        "# Step 4: Round and print\n",
        "Accessibility = Accessibility.round(2)\n",
        "print(\"✅ Updated Accessibility DataFrame:\")\n",
        "print(Accessibility)\n",
        "#The accessibility for grid v5 which in the ordered set V={v2,v7,v1,v3,v4,v5,v6,v8,v9} is grid_name 6 is 2.29\n"
      ]
    }
  ],
  "metadata": {
    "kernelspec": {
      "display_name": "Profiling",
      "language": "python",
      "name": "python3"
    },
    "language_info": {
      "codemirror_mode": {
        "name": "ipython",
        "version": 3
      },
      "file_extension": ".py",
      "mimetype": "text/x-python",
      "name": "python",
      "nbconvert_exporter": "python",
      "pygments_lexer": "ipython3",
      "version": "3.7.1"
    },
    "colab": {
      "provenance": [],
      "include_colab_link": true
    }
  },
  "nbformat": 4,
  "nbformat_minor": 0
}